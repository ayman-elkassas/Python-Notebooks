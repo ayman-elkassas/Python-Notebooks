{
 "cells": [
  {
   "cell_type": "code",
   "execution_count": 1,
   "metadata": {},
   "outputs": [
    {
     "name": "stdout",
     "output_type": "stream",
     "text": [
      "************\n"
     ]
    }
   ],
   "source": [
    "def printfun():\n",
    "    print(\"************\")\n",
    "printfun()"
   ]
  },
  {
   "cell_type": "markdown",
   "metadata": {},
   "source": [
    "**********\n",
    "*********\n",
    "********\n",
    "*******\n",
    "******\n",
    "*****\n",
    "****\n",
    "***"
   ]
  },
  {
   "cell_type": "code",
   "execution_count": 27,
   "metadata": {},
   "outputs": [
    {
     "name": "stdout",
     "output_type": "stream",
     "text": [
      "       *\n",
      "\n",
      "      **\n",
      "\n",
      "     ***\n",
      "\n",
      "    ****\n",
      "\n",
      "   *****\n",
      "\n",
      "  ******\n",
      "\n",
      " *******\n",
      "\n",
      "********\n",
      "\n"
     ]
    }
   ],
   "source": [
    "\n",
    "def printStars(numOfRaws):\n",
    "    ini=1\n",
    "    for i in range(0,numOfRaws):\n",
    "        if ini==11:\n",
    "            break\n",
    "        for k in range(0,7-i):\n",
    "            print(\" \",end='')\n",
    "        for j in range(0,ini):\n",
    "            print(\"*\",end='')\n",
    "        print('\\n')\n",
    "        ini=ini+1\n",
    "\n",
    "printStars(8)\n",
    "    "
   ]
  },
  {
   "cell_type": "code",
   "execution_count": 28,
   "metadata": {
    "collapsed": true
   },
   "outputs": [],
   "source": [
    "#required arguments , defualt arguments , assign by name"
   ]
  },
  {
   "cell_type": "code",
   "execution_count": 33,
   "metadata": {},
   "outputs": [
    {
     "name": "stdout",
     "output_type": "stream",
     "text": [
      "0\n"
     ]
    }
   ],
   "source": [
    "s=111\n",
    "def ss():\n",
    "    global s\n",
    "    s=0\n",
    "    \n",
    "ss()\n",
    "print(s)"
   ]
  },
  {
   "cell_type": "code",
   "execution_count": 36,
   "metadata": {},
   "outputs": [
    {
     "name": "stdout",
     "output_type": "stream",
     "text": [
      "max num :  11\n"
     ]
    }
   ],
   "source": [
    "def max_of_two_num(x,y):\n",
    "    if x>y:\n",
    "        return x\n",
    "    return y\n",
    "\n",
    "def max_of_three_num(x,y,z):\n",
    "    return max_of_two_num(x,max_of_two_num(y,z))\n",
    "\n",
    "print(\"max num : \",max_of_three_num(11,7,2))"
   ]
  },
  {
   "cell_type": "code",
   "execution_count": 41,
   "metadata": {},
   "outputs": [
    {
     "name": "stdout",
     "output_type": "stream",
     "text": [
      "[1, 2, 3, 4, 5, 6]\n"
     ]
    }
   ],
   "source": [
    "def unique_list(ls):\n",
    "    unique_ls=[]\n",
    "    for i in ls:\n",
    "        if i not in unique_ls:\n",
    "            unique_ls.append(i)\n",
    "    return unique_ls\n",
    "print(unique_list([1,2,3,3,3,4,5,6,6]))\n"
   ]
  },
  {
   "cell_type": "code",
   "execution_count": 45,
   "metadata": {},
   "outputs": [
    {
     "name": "stdout",
     "output_type": "stream",
     "text": [
      "sassakle namyA\n"
     ]
    }
   ],
   "source": [
    "string=\"Ayman elkassas\"\n",
    "ls=list(string)\n",
    "new=\"\"\n",
    "for i in range(0,len(ls)):\n",
    "    new=new+ls.pop()\n",
    "print(new)"
   ]
  },
  {
   "cell_type": "code",
   "execution_count": null,
   "metadata": {
    "collapsed": true
   },
   "outputs": [],
   "source": []
  }
 ],
 "metadata": {
  "kernelspec": {
   "display_name": "Python 3",
   "language": "python",
   "name": "python3"
  },
  "language_info": {
   "codemirror_mode": {
    "name": "ipython",
    "version": 3
   },
   "file_extension": ".py",
   "mimetype": "text/x-python",
   "name": "python",
   "nbconvert_exporter": "python",
   "pygments_lexer": "ipython3",
   "version": "3.6.1"
  }
 },
 "nbformat": 4,
 "nbformat_minor": 2
}
