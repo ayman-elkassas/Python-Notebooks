{
 "cells": [
  {
   "cell_type": "code",
   "execution_count": 4,
   "metadata": {},
   "outputs": [
    {
     "name": "stdout",
     "output_type": "stream",
     "text": [
      "******"
     ]
    }
   ],
   "source": [
    "for i in range(0,6):\n",
    "    print(\"*\",end='')"
   ]
  },
  {
   "cell_type": "code",
   "execution_count": 8,
   "metadata": {},
   "outputs": [
    {
     "name": "stdout",
     "output_type": "stream",
     "text": [
      "*****\n",
      "\n",
      "*****\n",
      "\n",
      "*****\n",
      "\n",
      "*****\n",
      "\n",
      "*****\n",
      "\n"
     ]
    }
   ],
   "source": [
    "for line in range(0,5):\n",
    "    for j in range(0,5):\n",
    "        print(\"*\",end='')\n",
    "    print(\"\\n\")"
   ]
  },
  {
   "cell_type": "code",
   "execution_count": 11,
   "metadata": {},
   "outputs": [
    {
     "name": "stdout",
     "output_type": "stream",
     "text": [
      "John eats  Japanese\n",
      "Marissa eats  American\n",
      "Pete eats  Mexican\n",
      "Dayton eats  French\n"
     ]
    }
   ],
   "source": [
    "persons = [ \"John\", \"Marissa\", \"Pete\", \"Dayton\" ]\n",
    "restaurants = [ \"Japanese\", \"American\", \"Mexican\", \"French\" ]\n",
    "for i in range(0,len(persons)):\n",
    "    print(persons[i],\"eats \",restaurants[i])\n",
    "        "
   ]
  },
  {
   "cell_type": "code",
   "execution_count": 12,
   "metadata": {},
   "outputs": [
    {
     "name": "stdout",
     "output_type": "stream",
     "text": [
      "John eats Japanese\n",
      "John eats American\n",
      "John eats Mexican\n",
      "John eats French\n",
      "Marissa eats Japanese\n",
      "Marissa eats American\n",
      "Marissa eats Mexican\n",
      "Marissa eats French\n",
      "Pete eats Japanese\n",
      "Pete eats American\n",
      "Pete eats Mexican\n",
      "Pete eats French\n",
      "Dayton eats Japanese\n",
      "Dayton eats American\n",
      "Dayton eats Mexican\n",
      "Dayton eats French\n"
     ]
    }
   ],
   "source": [
    "persons = [ \"John\", \"Marissa\", \"Pete\", \"Dayton\" ]\n",
    "restaurants = [ \"Japanese\", \"American\", \"Mexican\", \"French\" ]\n",
    " \n",
    "for person in persons:\n",
    "    for restaurant in restaurants:\n",
    "        print(person + \" eats \" + restaurant)"
   ]
  },
  {
   "cell_type": "code",
   "execution_count": 16,
   "metadata": {},
   "outputs": [
    {
     "name": "stdout",
     "output_type": "stream",
     "text": [
      "p\n",
      "y\n",
      "h\n",
      "o\n",
      "n\n"
     ]
    }
   ],
   "source": [
    "for char in 'python':\n",
    "    if char=='t':\n",
    "        continue\n",
    "    else:\n",
    "        print(char)\n"
   ]
  },
  {
   "cell_type": "code",
   "execution_count": 18,
   "metadata": {},
   "outputs": [
    {
     "name": "stdout",
     "output_type": "stream",
     "text": [
      "Ayman \"\" Elkassas\n",
      "Ayman  Elkassas\n"
     ]
    }
   ],
   "source": [
    "data = input()\n",
    "newdata = ''\n",
    "if data == '' :\n",
    "    print(\"Your Data can't be processed\")\n",
    "else :\n",
    "    for c in data :\n",
    "        if c.isdigit() == True :\n",
    "            print(\"Your Data can't be processed\")\n",
    "            break\n",
    "        if c in ['*','\"',\"'\"] :\n",
    "            continue\n",
    "        newdata += c \n",
    "    print (newdata)"
   ]
  },
  {
   "cell_type": "code",
   "execution_count": null,
   "metadata": {
    "collapsed": true
   },
   "outputs": [],
   "source": []
  }
 ],
 "metadata": {
  "kernelspec": {
   "display_name": "Python 3",
   "language": "python",
   "name": "python3"
  },
  "language_info": {
   "codemirror_mode": {
    "name": "ipython",
    "version": 3
   },
   "file_extension": ".py",
   "mimetype": "text/x-python",
   "name": "python",
   "nbconvert_exporter": "python",
   "pygments_lexer": "ipython3",
   "version": "3.6.1"
  }
 },
 "nbformat": 4,
 "nbformat_minor": 2
}
