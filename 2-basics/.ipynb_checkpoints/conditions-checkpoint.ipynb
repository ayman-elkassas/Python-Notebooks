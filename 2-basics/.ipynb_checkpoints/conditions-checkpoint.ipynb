{
 "cells": [
  {
   "cell_type": "code",
   "execution_count": 7,
   "metadata": {},
   "outputs": [
    {
     "name": "stdout",
     "output_type": "stream",
     "text": [
      "Plz enter your age : 155\n",
      "Enter gender : m\n",
      "156.0\n"
     ]
    }
   ],
   "source": [
    "# enter your age\n",
    "age=float(input(\"Plz enter your age : \"))\n",
    "gender=input(\"Enter gender : \")\n",
    "#condition\n",
    "if age >25:\n",
    "    #pass if no action take in if scope\n",
    "    pass\n",
    "    print(age+1)\n",
    "elif gender =='m' :\n",
    "    print(age+25)\n",
    "else :\n",
    "    print('Undefined gender ')"
   ]
  },
  {
   "cell_type": "code",
   "execution_count": null,
   "metadata": {
    "collapsed": true
   },
   "outputs": [],
   "source": []
  }
 ],
 "metadata": {
  "kernelspec": {
   "display_name": "Python 3",
   "language": "python",
   "name": "python3"
  },
  "language_info": {
   "codemirror_mode": {
    "name": "ipython",
    "version": 3
   },
   "file_extension": ".py",
   "mimetype": "text/x-python",
   "name": "python",
   "nbconvert_exporter": "python",
   "pygments_lexer": "ipython3",
   "version": "3.6.1"
  }
 },
 "nbformat": 4,
 "nbformat_minor": 2
}
