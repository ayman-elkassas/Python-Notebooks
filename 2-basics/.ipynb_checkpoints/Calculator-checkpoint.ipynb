{
 "cells": [
  {
   "cell_type": "code",
   "execution_count": 4,
   "metadata": {
    "scrolled": true
   },
   "outputs": [
    {
     "name": "stdout",
     "output_type": "stream",
     "text": [
      "Plz enter 1st number : 15\n",
      "Plz enter 2nd number : 56\n",
      "Enter operation : /\n",
      "DIV =  0.26785714285714285\n"
     ]
    }
   ],
   "source": [
    "# make calculator\n",
    "num1 =float(input(\"Plz enter 1st number : \"))\n",
    "num2 =float(input(\"Plz enter 2nd number : \"))\n",
    "\n",
    "op=input(\"Enter operation : \")\n",
    "\n",
    "if op==\"+\":\n",
    "    sum=num1+num2\n",
    "    print(\"Sum = \" ,sum)\n",
    "    \n",
    "elif op==\"-\":\n",
    "    sub=num1-num2\n",
    "    print(\"Sub = \" ,sub)\n",
    "    \n",
    "elif op==\"*\" or op==\"X\" or op==\"x\":\n",
    "    mul=num1*num2\n",
    "    print(\"Mul = \" ,mul)\n",
    "\n",
    "elif op==\"/\" or op==\"\\\\\":\n",
    "    div=num1/num2\n",
    "    print(\"DIV = \" ,div)\n",
    "    \n",
    "else:\n",
    "    print(\"Undefined operation !!\")"
   ]
  },
  {
   "cell_type": "code",
   "execution_count": null,
   "metadata": {
    "collapsed": true
   },
   "outputs": [],
   "source": []
  }
 ],
 "metadata": {
  "kernelspec": {
   "display_name": "Python 3",
   "language": "python",
   "name": "python3"
  },
  "language_info": {
   "codemirror_mode": {
    "name": "ipython",
    "version": 3
   },
   "file_extension": ".py",
   "mimetype": "text/x-python",
   "name": "python",
   "nbconvert_exporter": "python",
   "pygments_lexer": "ipython3",
   "version": "3.6.1"
  }
 },
 "nbformat": 4,
 "nbformat_minor": 2
}
